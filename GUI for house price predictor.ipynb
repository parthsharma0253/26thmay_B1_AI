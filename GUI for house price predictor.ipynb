{
 "cells": [
  {
   "cell_type": "code",
   "execution_count": 33,
   "id": "c0601c88-2720-4bcf-9876-5ea583c8b60a",
   "metadata": {},
   "outputs": [],
   "source": [
    "import pandas as pd\n",
    "import tkinter as tk\n",
    "import seaborn as sns\n",
    "from sklearn.model_selection import train_test_split\n",
    "from sklearn.linear_model import LinearRegression"
   ]
  },
  {
   "cell_type": "markdown",
   "id": "3f54050d-5fdb-497a-bb60-75749f993da8",
   "metadata": {},
   "source": [
    "# Creating and Deploying ML model"
   ]
  },
  {
   "cell_type": "code",
   "execution_count": null,
   "id": "9945e971-731f-40fa-b1cc-88682c0a65d0",
   "metadata": {},
   "outputs": [],
   "source": [
    "col_names = [str(i) for i in range(1,5001)]\n",
    "df = pd.read_csv(r'E:\\AI Training\\day12\\housing.csv')\n",
    "df.index = col_names\n",
    "\n",
    "sns.pairplot(df, kind='reg')\n",
    "\n",
    "x = df[['Avg. Area Income', 'Avg. Area House Age', 'Avg. Area Number of Rooms', 'Area Population']]\n",
    "y = df['Price']\n",
    "\n",
    "xtrain, xtest, ytrain, ytest = train_test_split(x, y, test_size = 0.25, random_state = 10)\n",
    "\n",
    "model = LinearRegression()\n",
    "model.fit(xtrain,ytrain)\n",
    "model.score(xtest,ytest)*100\n",
    "\n",
    "final_model = model\n",
    "pd.to_pickle(final_model, 'HousePricePredictor')"
   ]
  },
  {
   "cell_type": "markdown",
   "id": "d5948d42-9ab9-4854-a4fa-822c3e068ba5",
   "metadata": {
    "tags": []
   },
   "source": [
    "# GUI "
   ]
  },
  {
   "cell_type": "code",
   "execution_count": 32,
   "id": "69270a0e-bce3-4dcf-abc0-a1e7e3d5b503",
   "metadata": {},
   "outputs": [],
   "source": [
    "app = tk.Tk()\n",
    "app.title('House Pediction System')\n",
    "app.geometry('500x260')\n",
    "\n",
    "Photo = tk.PhotoImage(file = r'E:\\AI Training\\day12\\bg.png')\n",
    "photo_label = tk.Label(image=Photo)\n",
    "photo_label.pack()\n",
    "\n",
    "tk.Label(app, text = 'Enter your Income:', bg = '#000000', fg='#ffffff', font='bold').place(x=20,y=30)\n",
    "tk.Label(app, text = 'Enter your House Age:', bg = '#000000', fg='#ffffff', font='bold').place(x=20,y=60)\n",
    "tk.Label(app, text = 'Enter number of rooms:', bg = '#000000', fg='#ffffff', font='bold').place(x=20,y=90)\n",
    "tk.Label(app, text = 'Enter area\\'s population:', bg = '#000000', fg='#ffffff', font='bold').place(x=20,y=120)\n",
    "\n",
    "income = tk.Variable(app)\n",
    "house_age = tk.Variable(app)\n",
    "number_of_rooms = tk.Variable(app)\n",
    "area_population = tk.Variable(app)\n",
    "\n",
    "final_price = tk.Variable(app)\n",
    "final_price.set('')\n",
    "tk.Label(app, textvariable = final_price, bg = '#000000', fg='#ffffff', font='bold').place(x=20,y=220)\n",
    "\n",
    "tk.Entry(app, textvariable = income, bg='#ffffff', width = 30).place(x=250,y=30)\n",
    "tk.Entry(app, textvariable = house_age, bg='#ffffff', width = 30).place(x=250,y=60)\n",
    "tk.Entry(app, textvariable = number_of_rooms, bg='#ffffff', width = 30).place(x=250,y=90)\n",
    "tk.Entry(app, textvariable = area_population, bg='#ffffff', width = 30).place(x=250,y=120)\n",
    "\n",
    "def predictor():\n",
    "    model = pd.read_pickle('HousePricePredictor')\n",
    "    query = pd.DataFrame({'Avg. Area income':[income.get()],\n",
    "                     'Avg. Area House Age':[house_age.get()],\n",
    "                     'Avg. Area number of rooms':[number_of_rooms.get()],\n",
    "                     'Area population':[area_population.get()]\n",
    "                     })\n",
    "    final_price.set('Price for the house can be: %.1f$'%model.predict(query)[0])\n",
    "\n",
    "tk.Button(app, text='Find the selling price', command=predictor, bg = '#3c3da6', fg='#ffffff', font='bold').place(x=150,y=160)\n",
    "\n",
    "app.mainloop()"
   ]
  },
  {
   "cell_type": "code",
   "execution_count": null,
   "id": "cebe7b94-aded-471f-b453-b77c4123cfae",
   "metadata": {},
   "outputs": [],
   "source": []
  }
 ],
 "metadata": {
  "kernelspec": {
   "display_name": "Python 3",
   "language": "python",
   "name": "python3"
  },
  "language_info": {
   "codemirror_mode": {
    "name": "ipython",
    "version": 3
   },
   "file_extension": ".py",
   "mimetype": "text/x-python",
   "name": "python",
   "nbconvert_exporter": "python",
   "pygments_lexer": "ipython3",
   "version": "3.8.10"
  }
 },
 "nbformat": 4,
 "nbformat_minor": 5
}
